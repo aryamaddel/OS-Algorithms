{
 "cells": [
  {
   "cell_type": "markdown",
   "metadata": {},
   "source": [
    "# Disk Scheduling Algorithms"
   ]
  },
  {
   "cell_type": "markdown",
   "metadata": {},
   "source": [
    "## Setup"
   ]
  },
  {
   "cell_type": "code",
   "execution_count": 1,
   "metadata": {},
   "outputs": [],
   "source": [
    "requests = [98, 183, 37, 122, 14, 124, 65, 67]\n",
    "initial_head = 53\n",
    "disk_size = 200\n",
    "direction = 'right'"
   ]
  },
  {
   "cell_type": "markdown",
   "metadata": {},
   "source": [
    "## 1. FIFO (First-In, First-Out)"
   ]
  },
  {
   "cell_type": "code",
   "execution_count": 2,
   "metadata": {},
   "outputs": [
    {
     "name": "stdout",
     "output_type": "stream",
     "text": [
      "--- FIFO ---\n",
      "Seek Sequence: [53, 98, 183, 37, 122, 14, 124, 65, 67]\n",
      "Total Head Movement: 640 cylinders\n"
     ]
    }
   ],
   "source": [
    "fifo_total_movement = 0\n",
    "fifo_current_head = initial_head\n",
    "fifo_seek_sequence = [initial_head]\n",
    "\n",
    "for request in requests:\n",
    "    fifo_total_movement += abs(request - fifo_current_head)\n",
    "    fifo_current_head = request\n",
    "    fifo_seek_sequence.append(fifo_current_head)\n",
    "\n",
    "print(\"--- FIFO ---\")\n",
    "print(f\"Seek Sequence: {fifo_seek_sequence}\")\n",
    "print(f\"Total Head Movement: {fifo_total_movement} cylinders\")"
   ]
  },
  {
   "cell_type": "markdown",
   "metadata": {},
   "source": [
    "## 2. SSTF (Shortest Seek Time First)"
   ]
  },
  {
   "cell_type": "code",
   "execution_count": 3,
   "metadata": {},
   "outputs": [
    {
     "name": "stdout",
     "output_type": "stream",
     "text": [
      "--- SSTF ---\n",
      "Seek Sequence: [53, 65, 67, 37, 14, 98, 122, 124, 183]\n",
      "Total Head Movement: 236 cylinders\n"
     ]
    }
   ],
   "source": [
    "sstf_requests_copy = list(requests)\n",
    "sstf_total_movement = 0\n",
    "sstf_current_head = initial_head\n",
    "sstf_seek_sequence = [initial_head]\n",
    "\n",
    "while sstf_requests_copy:\n",
    "    closest_request = min(sstf_requests_copy, key=lambda r: abs(r - sstf_current_head))\n",
    "    \n",
    "    sstf_total_movement += abs(closest_request - sstf_current_head)\n",
    "    sstf_current_head = closest_request\n",
    "    sstf_seek_sequence.append(sstf_current_head)\n",
    "    sstf_requests_copy.remove(closest_request)\n",
    "\n",
    "print(\"--- SSTF ---\")\n",
    "print(f\"Seek Sequence: {sstf_seek_sequence}\")\n",
    "print(f\"Total Head Movement: {sstf_total_movement} cylinders\")"
   ]
  },
  {
   "cell_type": "markdown",
   "metadata": {},
   "source": [
    "## 3. SCAN (Elevator Algorithm)"
   ]
  },
  {
   "cell_type": "code",
   "execution_count": 4,
   "metadata": {},
   "outputs": [
    {
     "name": "stdout",
     "output_type": "stream",
     "text": [
      "--- SCAN ---\n",
      "Seek Sequence: [53, 65, 67, 98, 122, 124, 183, 199, 37, 14]\n",
      "Total Head Movement: 331 cylinders\n"
     ]
    }
   ],
   "source": [
    "scan_requests_copy = sorted(list(requests))\n",
    "scan_total_movement = 0\n",
    "scan_current_head = initial_head\n",
    "scan_seek_sequence = [initial_head]\n",
    "\n",
    "left = [r for r in scan_requests_copy if r < initial_head]\n",
    "right = [r for r in scan_requests_copy if r > initial_head]\n",
    "\n",
    "if direction == 'right':\n",
    "    for req in sorted(right):\n",
    "        scan_total_movement += abs(req - scan_current_head)\n",
    "        scan_current_head = req\n",
    "        scan_seek_sequence.append(scan_current_head)\n",
    "    \n",
    "    if left:\n",
    "        scan_total_movement += abs(disk_size - 1 - scan_current_head)\n",
    "        scan_current_head = disk_size - 1\n",
    "        scan_seek_sequence.append(scan_current_head)\n",
    "\n",
    "    for req in sorted(left, reverse=True):\n",
    "        scan_total_movement += abs(req - scan_current_head)\n",
    "        scan_current_head = req\n",
    "        scan_seek_sequence.append(scan_current_head)\n",
    "else:\n",
    "    for req in sorted(left, reverse=True):\n",
    "        scan_total_movement += abs(req - scan_current_head)\n",
    "        scan_current_head = req\n",
    "        scan_seek_sequence.append(scan_current_head)\n",
    "\n",
    "    if right:\n",
    "        scan_total_movement += abs(0 - scan_current_head)\n",
    "        scan_current_head = 0\n",
    "        scan_seek_sequence.append(scan_current_head)\n",
    "\n",
    "    for req in sorted(right):\n",
    "        scan_total_movement += abs(req - scan_current_head)\n",
    "        scan_current_head = req\n",
    "        scan_seek_sequence.append(scan_current_head)\n",
    "\n",
    "print(\"--- SCAN ---\")\n",
    "print(f\"Seek Sequence: {scan_seek_sequence}\")\n",
    "print(f\"Total Head Movement: {scan_total_movement} cylinders\")"
   ]
  },
  {
   "cell_type": "markdown",
   "metadata": {},
   "source": [
    "## 4. C-SCAN (Circular SCAN)"
   ]
  },
  {
   "cell_type": "code",
   "execution_count": 5,
   "metadata": {},
   "outputs": [
    {
     "name": "stdout",
     "output_type": "stream",
     "text": [
      "--- C-SCAN ---\n",
      "Seek Sequence: [53, 65, 67, 98, 122, 124, 183, 199, 0, 14, 37]\n",
      "Total Head Movement: 382 cylinders\n"
     ]
    }
   ],
   "source": [
    "cscan_requests_copy = sorted(list(requests))\n",
    "cscan_total_movement = 0\n",
    "cscan_current_head = initial_head\n",
    "cscan_seek_sequence = [initial_head]\n",
    "\n",
    "left = [r for r in cscan_requests_copy if r < initial_head]\n",
    "right = [r for r in cscan_requests_copy if r > initial_head]\n",
    "\n",
    "if direction == 'right':\n",
    "    for req in sorted(right):\n",
    "        cscan_total_movement += abs(req - cscan_current_head)\n",
    "        cscan_current_head = req\n",
    "        cscan_seek_sequence.append(cscan_current_head)\n",
    "    \n",
    "    if left:\n",
    "        cscan_total_movement += abs(disk_size - 1 - cscan_current_head)\n",
    "        cscan_seek_sequence.append(disk_size - 1)\n",
    "        cscan_current_head = 0\n",
    "        cscan_total_movement += (disk_size - 1)\n",
    "        cscan_seek_sequence.append(cscan_current_head)\n",
    "\n",
    "    for req in sorted(left):\n",
    "        cscan_total_movement += abs(req - cscan_current_head)\n",
    "        cscan_current_head = req\n",
    "        cscan_seek_sequence.append(cscan_current_head)\n",
    "else:\n",
    "    for req in sorted(left, reverse=True):\n",
    "        cscan_total_movement += abs(req - cscan_current_head)\n",
    "        cscan_current_head = req\n",
    "        cscan_seek_sequence.append(cscan_current_head)\n",
    "    \n",
    "    if right:\n",
    "        cscan_total_movement += abs(0 - cscan_current_head)\n",
    "        cscan_seek_sequence.append(0)\n",
    "        cscan_current_head = disk_size - 1\n",
    "        cscan_total_movement += (disk_size - 1)\n",
    "        cscan_seek_sequence.append(cscan_current_head)\n",
    "        \n",
    "    for req in sorted(right, reverse=True):\n",
    "        cscan_total_movement += abs(req - cscan_current_head)\n",
    "        cscan_current_head = req\n",
    "        cscan_seek_sequence.append(cscan_current_head)\n",
    "\n",
    "print(\"--- C-SCAN ---\")\n",
    "print(f\"Seek Sequence: {cscan_seek_sequence}\")\n",
    "print(f\"Total Head Movement: {cscan_total_movement} cylinders\")"
   ]
  }
 ],
 "metadata": {
  "kernelspec": {
   "display_name": "os-algorithms",
   "language": "python",
   "name": "python3"
  },
  "language_info": {
   "codemirror_mode": {
    "name": "ipython",
    "version": 3
   },
   "file_extension": ".py",
   "mimetype": "text/x-python",
   "name": "python",
   "nbconvert_exporter": "python",
   "pygments_lexer": "ipython3",
   "version": "3.13.5"
  }
 },
 "nbformat": 4,
 "nbformat_minor": 4
}
