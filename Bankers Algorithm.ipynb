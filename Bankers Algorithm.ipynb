{
 "cells": [
  {
   "cell_type": "markdown",
   "id": "1b298e01",
   "metadata": {},
   "source": [
    "# Define allocation, maximum, and available resources\n"
   ]
  },
  {
   "cell_type": "code",
   "execution_count": 14,
   "id": "fb5b2b73",
   "metadata": {},
   "outputs": [],
   "source": [
    "allocation = [\n",
    "    [0, 1, 0],\n",
    "    [2, 0, 0],\n",
    "    [3, 0, 2],\n",
    "    [2, 1, 1],\n",
    "    [0, 0, 2],\n",
    "]\n",
    "maximum = [\n",
    "    [7, 5, 3],\n",
    "    [3, 2, 2],\n",
    "    [9, 0, 2],\n",
    "    [2, 2, 2],\n",
    "    [4, 3, 3],\n",
    "]\n",
    "available = [3, 3, 2]"
   ]
  },
  {
   "cell_type": "markdown",
   "id": "aaa75814",
   "metadata": {},
   "source": [
    "# Compute the need matrix\n"
   ]
  },
  {
   "cell_type": "code",
   "execution_count": 15,
   "id": "88ec31ee",
   "metadata": {},
   "outputs": [],
   "source": [
    "m = len(maximum)\n",
    "n = len(maximum[0]) if m > 0 else 0\n",
    "need = [[maximum[i][j] - allocation[i][j] for j in range(n)] for i in range(m)]"
   ]
  },
  {
   "cell_type": "markdown",
   "id": "83fbf8a3",
   "metadata": {},
   "source": [
    "# Implement the safety algorithm\n"
   ]
  },
  {
   "cell_type": "code",
   "execution_count": 16,
   "id": "3b7d68e0",
   "metadata": {},
   "outputs": [],
   "source": [
    "P = len(allocation)\n",
    "R = len(available)\n",
    "work = available.copy()\n",
    "finish = [False] * P\n",
    "safe_seq = []\n",
    "while True:\n",
    "    progressed = False\n",
    "    for i in range(P):\n",
    "        if not finish[i]:\n",
    "            if all(need[i][r] <= work[r] for r in range(R)):\n",
    "                for r in range(R):\n",
    "                    work[r] += allocation[i][r]\n",
    "                finish[i] = True\n",
    "                safe_seq.append(i)\n",
    "                progressed = True\n",
    "    if not progressed:\n",
    "        break\n",
    "if all(finish):\n",
    "    safe = True\n",
    "    seq = safe_seq\n",
    "else:\n",
    "    safe = False\n",
    "    seq = []"
   ]
  },
  {
   "cell_type": "markdown",
   "id": "4b97c52d",
   "metadata": {},
   "source": [
    "# Print the initial state and safety check\n"
   ]
  },
  {
   "cell_type": "code",
   "execution_count": 17,
   "id": "ade9a644",
   "metadata": {},
   "outputs": [
    {
     "name": "stdout",
     "output_type": "stream",
     "text": [
      "Available: [3, 3, 2]\n",
      "Allocation:\n",
      " P0: [0, 1, 0]\n",
      " P1: [2, 0, 0]\n",
      " P2: [3, 0, 2]\n",
      " P3: [2, 1, 1]\n",
      " P4: [0, 0, 2]\n",
      "Maximum:\n",
      " P0: [7, 5, 3]\n",
      " P1: [3, 2, 2]\n",
      " P2: [9, 0, 2]\n",
      " P3: [2, 2, 2]\n",
      " P4: [4, 3, 3]\n",
      "Need:\n",
      " P0: [7, 4, 3]\n",
      " P1: [1, 2, 2]\n",
      " P2: [6, 0, 0]\n",
      " P3: [0, 1, 1]\n",
      " P4: [4, 3, 1]\n",
      "\n",
      "System is in a SAFE state.\n",
      "Safe sequence is: [1, 3, 4, 0, 2]\n"
     ]
    }
   ],
   "source": [
    "print(\"Available:\", available)\n",
    "print(\"Allocation:\")\n",
    "for i, row in enumerate(allocation):\n",
    "    print(f\" P{i}: {row}\")\n",
    "print(\"Maximum:\")\n",
    "for i, row in enumerate(maximum):\n",
    "    print(f\" P{i}: {row}\")\n",
    "print(\"Need:\")\n",
    "for i, row in enumerate(need):\n",
    "    print(f\" P{i}: {row}\")\n",
    "print()\n",
    "if safe:\n",
    "    print(\"System is in a SAFE state.\")\n",
    "    print(\"Safe sequence is:\", seq)\n",
    "else:\n",
    "    print(\"System is in an UNSAFE state (no safe sequence).\")"
   ]
  },
  {
   "cell_type": "markdown",
   "id": "49a16429",
   "metadata": {},
   "source": [
    "# Example resource request by P1\n"
   ]
  },
  {
   "cell_type": "code",
   "execution_count": 18,
   "id": "0f1fae70",
   "metadata": {},
   "outputs": [
    {
     "name": "stdout",
     "output_type": "stream",
     "text": [
      "Process P1 requests [1, 0, 2]\n",
      "Request would lead to an unsafe state — rolled back.\n",
      "\n",
      "State after attempting request:\n",
      "Available: [3, 3, 2]\n",
      "Allocation:\n",
      " P0: [0, 1, 0]\n",
      " P1: [2, 0, 0]\n",
      " P2: [3, 0, 2]\n",
      " P3: [2, 1, 1]\n",
      " P4: [0, 0, 2]\n",
      "Maximum:\n",
      " P0: [7, 5, 3]\n",
      " P1: [3, 2, 2]\n",
      " P2: [9, 0, 2]\n",
      " P3: [2, 2, 2]\n",
      " P4: [4, 3, 3]\n",
      "Need:\n",
      " P0: [7, 4, 3]\n",
      " P1: [1, 2, 2]\n",
      " P2: [6, 0, 0]\n",
      " P3: [0, 1, 1]\n",
      " P4: [4, 3, 1]\n",
      "\n"
     ]
    }
   ],
   "source": [
    "pid = 1\n",
    "request = [1, 0, 2]\n",
    "print(f\"Process P{pid} requests {request}\")\n",
    "if pid < 0 or pid >= P:\n",
    "    granted = False\n",
    "    message = f\"Invalid PID {pid}\"\n",
    "else:\n",
    "    if any(request[r] > need[pid][r] for r in range(R)):\n",
    "        granted = False\n",
    "        message = f\"Request {request} exceeds the process's remaining need {need[pid]}.\"\n",
    "    elif any(request[r] > available[r] for r in range(R)):\n",
    "        granted = False\n",
    "        message = (\n",
    "            f\"Request {request} cannot be granted immediately (resources unavailable).\"\n",
    "        )\n",
    "    else:\n",
    "        for r in range(R):\n",
    "            available[r] -= request[r]\n",
    "            allocation[pid][r] += request[r]\n",
    "        work = available.copy()\n",
    "        finish = [False] * P\n",
    "        safe_seq = []\n",
    "        while True:\n",
    "            progressed = False\n",
    "            for i in range(P):\n",
    "                if not finish[i]:\n",
    "                    if all(need[i][r] <= work[r] for r in range(R)):\n",
    "                        for r in range(R):\n",
    "                            work[r] += allocation[i][r]\n",
    "                        finish[i] = True\n",
    "                        safe_seq.append(i)\n",
    "                        progressed = True\n",
    "            if not progressed:\n",
    "                break\n",
    "        if all(finish):\n",
    "            safe = True\n",
    "            seq = safe_seq\n",
    "            granted = True\n",
    "            message = f\"Request granted. System is safe. Safe sequence: {seq}\"\n",
    "        else:\n",
    "            for r in range(R):\n",
    "                available[r] += request[r]\n",
    "                allocation[pid][r] -= request[r]\n",
    "            granted = False\n",
    "            message = \"Request would lead to an unsafe state — rolled back.\"\n",
    "print(message)\n",
    "print(\"\\nState after attempting request:\")\n",
    "print(\"Available:\", available)\n",
    "print(\"Allocation:\")\n",
    "for i, row in enumerate(allocation):\n",
    "    print(f\" P{i}: {row}\")\n",
    "print(\"Maximum:\")\n",
    "for i, row in enumerate(maximum):\n",
    "    print(f\" P{i}: {row}\")\n",
    "print(\"Need:\")\n",
    "need = [[maximum[i][j] - allocation[i][j] for j in range(n)] for i in range(m)]\n",
    "for i, row in enumerate(need):\n",
    "    print(f\" P{i}: {row}\")\n",
    "print()"
   ]
  },
  {
   "cell_type": "markdown",
   "id": "c6fbaef1",
   "metadata": {},
   "source": [
    "# Another example request by P4\n"
   ]
  },
  {
   "cell_type": "code",
   "execution_count": 19,
   "id": "c13864af",
   "metadata": {},
   "outputs": [
    {
     "name": "stdout",
     "output_type": "stream",
     "text": [
      "Process P4 requests [3, 3, 0]\n",
      "Request would lead to an unsafe state — rolled back.\n",
      "\n",
      "Final state:\n",
      "Available: [3, 3, 2]\n",
      "Allocation:\n",
      " P0: [0, 1, 0]\n",
      " P1: [2, 0, 0]\n",
      " P2: [3, 0, 2]\n",
      " P3: [2, 1, 1]\n",
      " P4: [0, 0, 2]\n",
      "Maximum:\n",
      " P0: [7, 5, 3]\n",
      " P1: [3, 2, 2]\n",
      " P2: [9, 0, 2]\n",
      " P3: [2, 2, 2]\n",
      " P4: [4, 3, 3]\n",
      "Need:\n",
      " P0: [7, 4, 3]\n",
      " P1: [1, 2, 2]\n",
      " P2: [6, 0, 0]\n",
      " P3: [0, 1, 1]\n",
      " P4: [4, 3, 1]\n",
      "\n"
     ]
    }
   ],
   "source": [
    "pid2 = 4\n",
    "req2 = [3, 3, 0]\n",
    "print(f\"Process P{pid2} requests {req2}\")\n",
    "if pid2 < 0 or pid2 >= P:\n",
    "    g2 = False\n",
    "    m2 = f\"Invalid PID {pid2}\"\n",
    "else:\n",
    "    if any(req2[r] > need[pid2][r] for r in range(R)):\n",
    "        g2 = False\n",
    "        m2 = f\"Request {req2} exceeds the process's remaining need {need[pid2]}.\"\n",
    "    elif any(req2[r] > available[r] for r in range(R)):\n",
    "        g2 = False\n",
    "        m2 = f\"Request {req2} cannot be granted immediately (resources unavailable).\"\n",
    "    else:\n",
    "        for r in range(R):\n",
    "            available[r] -= req2[r]\n",
    "            allocation[pid2][r] += req2[r]\n",
    "        work = available.copy()\n",
    "        finish = [False] * P\n",
    "        safe_seq = []\n",
    "        while True:\n",
    "            progressed = False\n",
    "            for i in range(P):\n",
    "                if not finish[i]:\n",
    "                    if all(need[i][r] <= work[r] for r in range(R)):\n",
    "                        for r in range(R):\n",
    "                            work[r] += allocation[i][r]\n",
    "                        finish[i] = True\n",
    "                        safe_seq.append(i)\n",
    "                        progressed = True\n",
    "            if not progressed:\n",
    "                break\n",
    "        if all(finish):\n",
    "            safe = True\n",
    "            seq = safe_seq\n",
    "            g2 = True\n",
    "            m2 = f\"Request granted. System is safe. Safe sequence: {seq}\"\n",
    "        else:\n",
    "            for r in range(R):\n",
    "                available[r] += req2[r]\n",
    "                allocation[pid2][r] -= req2[r]\n",
    "            g2 = False\n",
    "            m2 = \"Request would lead to an unsafe state — rolled back.\"\n",
    "print(m2)\n",
    "print(\"\\nFinal state:\")\n",
    "print(\"Available:\", available)\n",
    "print(\"Allocation:\")\n",
    "for i, row in enumerate(allocation):\n",
    "    print(f\" P{i}: {row}\")\n",
    "print(\"Maximum:\")\n",
    "for i, row in enumerate(maximum):\n",
    "    print(f\" P{i}: {row}\")\n",
    "print(\"Need:\")\n",
    "need = [[maximum[i][j] - allocation[i][j] for j in range(n)] for i in range(m)]\n",
    "for i, row in enumerate(need):\n",
    "    print(f\" P{i}: {row}\")\n",
    "print()"
   ]
  }
 ],
 "metadata": {
  "kernelspec": {
   "display_name": "os-algorithms",
   "language": "python",
   "name": "python3"
  },
  "language_info": {
   "codemirror_mode": {
    "name": "ipython",
    "version": 3
   },
   "file_extension": ".py",
   "mimetype": "text/x-python",
   "name": "python",
   "nbconvert_exporter": "python",
   "pygments_lexer": "ipython3",
   "version": "3.13.5"
  }
 },
 "nbformat": 4,
 "nbformat_minor": 5
}
